{
 "cells": [
  {
   "cell_type": "markdown",
   "id": "5d9be4ce-152a-47b7-a95c-4ccea24c611b",
   "metadata": {},
   "source": [
    "# Design Patterns Logbook #\n",
    "# Apinayan Kanenthirarasa #\n",
    "# ID: 22210324 #\n",
    "# September 2024 #"
   ]
  },
  {
   "cell_type": "markdown",
   "id": "4974de36-eae3-4b01-8d30-4f01a415a758",
   "metadata": {},
   "source": [
    "## <font color=\"red\">Logbook Exercise 1</font> ##\n",
    "\n",
    "Insert a 'code' cell below. In this do the following:\n",
    "\n",
    "- line 1 - create a list named \"shopping_list\" with items: milk, eggs, bread, cheese, tea, coffee, rice, pasta, milk, tea (<font color=\"red\">NOTE: the duplicate items are intentional</font>)\n",
    "- line 2 - print the list along with a message e.g. \"This is my shopping list ...\"\n",
    "- line 3 - create a tuple named \"shopping_tuple\" with the same items\n",
    "- line 4 - print the tuple with similar message e.g. \"This is my shopping tuple ...\"\n",
    "- line 5 - create a set named \"shopping_set\" from \"shopping_list\" by using the set() method\n",
    "- line 6 - print the set with appropriate message and check duplicate items have been removed\n",
    "- line 7 - make a dictionary \"shopping_dict\" - copy and paste the following items and prices: \"milk\": \"£1.20\", \"eggs\": \"£0.87\", \"bread\": \"£0.64\", \"cheese\": \"£1.75\", \"tea\": \"£1.06\", \"coffee\": \"£2.15\", \"rice\": \"£1.60\", \"pasta\": \"£1.53\".\n",
    "- line 8 - print the dictionary with an appropriate message \n",
    "\n",
    "An example of fully described printed output is presented below (some clues here also)\n",
    "Don't worry of your text output is different - it is the contents of the compund variables that matter\n",
    "\n",
    "```\n",
    "This is my shopping list ['milk', 'eggs', 'bread', 'cheese', 'tea', 'coffee', 'rice', 'pasta', 'milk', 'tea']\n",
    "This is my shopping tuple ('milk', 'eggs', 'bread', 'cheese', 'tea', 'coffee', 'rice', 'pasta', 'milk', 'tea')\n",
    "This is my Shopping_set with duplicates removes {'rice', 'milk', 'pasta', 'cheese', 'eggs', 'tea', 'bread', 'coffee'}\n",
    "This is my shopping_dict {'milk': '£1.20', 'eggs': '£0.87', 'bread': '£0.64', 'cheese': '£1.75', 'tea': '£1.06', 'coffee': '£2.15', 'rice': '£1.60', 'pasta': '£1.53'}\n",
    "```"
   ]
  },
  {
   "cell_type": "code",
   "execution_count": 6,
   "id": "691967ba-af87-433a-8bd6-802a0e8fd290",
   "metadata": {},
   "outputs": [
    {
     "name": "stdout",
     "output_type": "stream",
     "text": [
      "This is my shopping list: ['milk', 'eggs', 'bread', 'cheese', 'tea', 'coffee', 'rice', 'pasta', 'milk', 'tea']\n",
      "This is my shopping tuple: ('milk', 'eggs', 'bread', 'cheese', 'tea', 'coffee', 'rice', 'pasta', 'milk', 'tea')\n",
      "This is my shopping set: {'cheese', 'tea', 'coffee', 'pasta', 'eggs', 'rice', 'milk', 'bread'}\n",
      "This is my shopping dictionary: {'milk': '£1.20', 'eggs': '£0.87', 'bread': '£0.64', 'cheese': '£1.75', 'tea': '£1.06', 'coffee': '£2.15', 'rice': '£1.60', 'pasta': '£1.53'}\n"
     ]
    }
   ],
   "source": [
    "shopping_list = [\"milk\", \"eggs\", \"bread\", \"cheese\", \"tea\" ,\"coffee\", \"rice\", \"pasta\", \"milk\", \"tea\"]\n",
    "print(\"This is my shopping list: \" + str(shopping_list))\n",
    "shopping_tuple = (\"milk\", \"eggs\", \"bread\", \"cheese\", \"tea\" ,\"coffee\", \"rice\", \"pasta\", \"milk\", \"tea\")\n",
    "print(\"This is my shopping tuple: \"+ str(shopping_tuple))\n",
    "shopping_set = set(shopping_list)\n",
    "print(\"This is my shopping set: \"+ str(shopping_set))\n",
    "shopping_dict = { \"milk\": \"£1.20\", \"eggs\": \"£0.87\", \"bread\": \"£0.64\", \"cheese\": \"£1.75\", \"tea\": \"£1.06\", \"coffee\": \"£2.15\", \"rice\": \"£1.60\", \"pasta\": \"£1.53\"}\n",
    "print(\"This is my shopping dictionary: \"+ str(shopping_dict))"
   ]
  },
  {
   "cell_type": "markdown",
   "id": "6ff98535",
   "metadata": {},
   "source": [
    "## <font color=\"red\">Logbook Exercise 2</font> ##\n",
    "\n",
    "Create a 'code' cell below. In this do the following:\n",
    "\n",
    "- line 1 - Use a comment to title your exercise - e.g. \"Unit 2 Exercise\" \n",
    "- line 2 - create a list ... li = [\"USA\",\"Mexico\",\"Canada\"]\n",
    "- line 3 - append \"Greenland\" to the list\n",
    "- l4 - print the list to demonstrate that Greenland is attached\n",
    "- l5 - remove \"Greenland\"\n",
    "- l6 - print the list to demonstrate that Greenland is removed\n",
    "- l7 - insert \"Greenland\" at the beginning of the list\n",
    "- l8 - print the resul of l7\n",
    "- l9 - shorthand slice the list to extract the first two items - simultaneausly print the output\n",
    "- l10 - use a negative index to extract the second to last item - simultaneausly print the output\n",
    "- l11 - use a splitting sequence to extract the middle two items - simultaneausly print the output\n",
    "\n",
    "An example of fully described printed output is presented below (some clues here also)\n",
    "Don't worry of your text output is different - it is the contents of the list that matter\n",
    "\n",
    "```\n",
    "li.append('Greenland') gives ...  ['USA', 'Mexico', 'Canada', 'Greenland']\n",
    "li.remove('Greenland') gives ...  ['USA', 'Mexico', 'Canada']\n",
    "li.insert(0,'Greenland') gives ...  ['Greenland', 'USA', 'Mexico', 'Canada']\n",
    "li[:2] gives ...  ['Greenland', 'USA']\n",
    "li[-2] gives ...  Mexico\n",
    "li[1:3] gives ...  ['USA', 'Mexico']\n",
    "```"
   ]
  },
  {
   "cell_type": "code",
   "execution_count": 7,
   "id": "9db0e3d4",
   "metadata": {},
   "outputs": [
    {
     "name": "stdout",
     "output_type": "stream",
     "text": [
      "['USA', 'Mexico', 'Canada', 'Greenland']\n",
      "['USA', 'Mexico', 'Canada']\n",
      "['Greenland', 'USA', 'Mexico', 'Canada']\n",
      "['Greenland', 'USA']\n",
      "Mexico\n",
      "['USA', 'Mexico']\n"
     ]
    }
   ],
   "source": [
    "# Unit 2 Exercise\n",
    "li = [\"USA\",\"Mexico\",\"Canada\"]\n",
    "li.append(\"Greenland\")\n",
    "print(li)\n",
    "li.remove(\"Greenland\")\n",
    "print(li)\n",
    "li.insert(0, \"Greenland\")\n",
    "print(li)\n",
    "print(li[:2])\n",
    "print(li[-2])\n",
    "print(li[1:3])"
   ]
  },
  {
   "cell_type": "markdown",
   "id": "842cd786",
   "metadata": {},
   "source": [
    "## <font color=\"red\">Logbook Exercise 3</font> ##\n",
    "\n",
    "Create a 'code' cell below. In this do the following:\n",
    "- on the first line create the following set ... a=[0,1,2,3,4,5,6,7,8,9,10] \n",
    "- on the second line create the following set ... b=[0,5,10,15,20,25]\n",
    "- on the third line create the following dictionary ... topscores={\"Jo\":999, \"Sue\":987, \"Tara\":960; \"Mike\":870}\n",
    "- use a combination of print() and type() methods to produce the following output\n",
    "\n",
    "```\n",
    "list a is ...  [0, 1, 2, 3, 4, 5, 6, 7, 8, 9, 10]\n",
    "list b is ...  [0, 5, 10, 15, 20, 25]\n",
    "The type of a is now ... <class 'list'>\n",
    "```\n",
    "\n",
    "- on the next 2 lines convert list a and b to sets using set()\n",
    "- on the following lines use a combination of print(), type() and set notaion (e.g. 'a & b', 'a | b', 'b-a') to obtain the following output\n",
    "\n",
    "```\n",
    "set a is ...  {0, 1, 2, 3, 4, 5, 6, 7, 8, 9, 10}\n",
    "set b is ...  {0, 5, 10, 15, 20, 25}\n",
    "The type of a is now ... <class 'set'>\n",
    "Intersect of a and b is [0, 10, 5]\n",
    "Union of a and b is [0, 1, 2, 3, 4, 5, 6, 7, 8, 9, 10, 15, 20, 25]\n",
    "Items unique to set b are {25, 20, 15}\n",
    "```\n",
    "\n",
    "- on the next 2 lines use print(), '.keys()' and '.values()' methods to obtain the following output \n",
    "\n",
    "```\n",
    "topscores dictionary keys are dict_keys(['Jo', 'Sue', 'Tara', 'Mike'])\n",
    "topscores dictionary values are dict_values([999, 987, 960, 870])\n",
    "```"
   ]
  },
  {
   "cell_type": "code",
   "execution_count": 16,
   "id": "0e50ae74",
   "metadata": {},
   "outputs": [
    {
     "name": "stdout",
     "output_type": "stream",
     "text": [
      "list a is [0, 1, 2, 3, 4, 5, 6, 7, 8, 9, 10]\n",
      "list b is [0, 5, 10, 15, 20, 25]\n",
      "The type of a is now <class 'list'>\n",
      "set a is {0, 1, 2, 3, 4, 5, 6, 7, 8, 9, 10}\n",
      "set b is {0, 5, 10, 15, 20, 25}\n",
      "The type of a is now <class 'set'>\n",
      "Intersect of a and b is {0, 10, 5}\n",
      "Union of a and b is {0, 1, 2, 3, 4, 5, 6, 7, 8, 9, 10, 15, 20, 25}\n",
      "Items unique to set b are {25, 20, 15}\n",
      "topscores dictionary keys are dict_keys(['Jo', 'Sue', 'Tara', 'Mike'])\n",
      "topscores dictionary keys are dict_values([999, 987, 960, 870])\n"
     ]
    }
   ],
   "source": [
    "a=[0,1,2,3,4,5,6,7,8,9,10] \n",
    "b=[0,5,10,15,20,25]\n",
    "topscores={\"Jo\":999, \"Sue\":987, \"Tara\":960, \"Mike\":870}\n",
    "print(\"list a is \" + str(a))\n",
    "print(\"list b is \" + str(b))\n",
    "print(\"The type of a is now \" + str(type(a)))\n",
    "a = set(a)\n",
    "b = set(b)\n",
    "print(\"set a is \" + str(a))\n",
    "print(\"set b is \" + str(b))\n",
    "print(\"The type of a is now \" + str(type(a)))\n",
    "print(\"Intersect of a and b is \" + str(a.intersection(b)))\n",
    "print(\"Union of a and b is \" + str(a.union(b)))\n",
    "print(\"Items unique to set b are \" + str(b-a))\n",
    "print(\"topscores dictionary keys are \" + str(topscores.keys()))\n",
    "print(\"topscores dictionary keys are \" + str(topscores.values()))"
   ]
  }
 ],
 "metadata": {
  "kernelspec": {
   "display_name": "Python 3 (ipykernel)",
   "language": "python",
   "name": "python3"
  },
  "language_info": {
   "codemirror_mode": {
    "name": "ipython",
    "version": 3
   },
   "file_extension": ".py",
   "mimetype": "text/x-python",
   "name": "python",
   "nbconvert_exporter": "python",
   "pygments_lexer": "ipython3",
   "version": "3.11.7"
  }
 },
 "nbformat": 4,
 "nbformat_minor": 5
}
