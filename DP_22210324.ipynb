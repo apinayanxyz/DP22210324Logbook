{
 "cells": [
  {
   "cell_type": "markdown",
   "id": "5d9be4ce-152a-47b7-a95c-4ccea24c611b",
   "metadata": {},
   "source": [
    "# Design Patterns Logbook #\n",
    "# Apinayan Kanenthirarasa #\n",
    "# ID: 22210324 #\n",
    "# September 2024 #"
   ]
  },
  {
   "cell_type": "markdown",
   "id": "4974de36-eae3-4b01-8d30-4f01a415a758",
   "metadata": {},
   "source": [
    "## <font color=\"red\">Logbook Exercise 1</font> ##\n",
    "\n",
    "Insert a 'code' cell below. In this do the following:\n",
    "\n",
    "- line 1 - create a list named \"shopping_list\" with items: milk, eggs, bread, cheese, tea, coffee, rice, pasta, milk, tea (<font color=\"red\">NOTE: the duplicate items are intentional</font>)\n",
    "- line 2 - print the list along with a message e.g. \"This is my shopping list ...\"\n",
    "- line 3 - create a tuple named \"shopping_tuple\" with the same items\n",
    "- line 4 - print the tuple with similar message e.g. \"This is my shopping tuple ...\"\n",
    "- line 5 - create a set named \"shopping_set\" from \"shopping_list\" by using the set() method\n",
    "- line 6 - print the set with appropriate message and check duplicate items have been removed\n",
    "- line 7 - make a dictionary \"shopping_dict\" - copy and paste the following items and prices: \"milk\": \"£1.20\", \"eggs\": \"£0.87\", \"bread\": \"£0.64\", \"cheese\": \"£1.75\", \"tea\": \"£1.06\", \"coffee\": \"£2.15\", \"rice\": \"£1.60\", \"pasta\": \"£1.53\".\n",
    "- line 8 - print the dictionary with an appropriate message \n",
    "\n",
    "An example of fully described printed output is presented below (some clues here also)\n",
    "Don't worry of your text output is different - it is the contents of the compund variables that matter\n",
    "\n",
    "```\n",
    "This is my shopping list ['milk', 'eggs', 'bread', 'cheese', 'tea', 'coffee', 'rice', 'pasta', 'milk', 'tea']\n",
    "This is my shopping tuple ('milk', 'eggs', 'bread', 'cheese', 'tea', 'coffee', 'rice', 'pasta', 'milk', 'tea')\n",
    "This is my Shopping_set with duplicates removes {'rice', 'milk', 'pasta', 'cheese', 'eggs', 'tea', 'bread', 'coffee'}\n",
    "This is my shopping_dict {'milk': '£1.20', 'eggs': '£0.87', 'bread': '£0.64', 'cheese': '£1.75', 'tea': '£1.06', 'coffee': '£2.15', 'rice': '£1.60', 'pasta': '£1.53'}\n",
    "```"
   ]
  },
  {
   "cell_type": "code",
   "execution_count": 6,
   "id": "691967ba-af87-433a-8bd6-802a0e8fd290",
   "metadata": {},
   "outputs": [
    {
     "name": "stdout",
     "output_type": "stream",
     "text": [
      "This is my shopping list: ['milk', 'eggs', 'bread', 'cheese', 'tea', 'coffee', 'rice', 'pasta', 'milk', 'tea']\n",
      "This is my shopping tuple: ('milk', 'eggs', 'bread', 'cheese', 'tea', 'coffee', 'rice', 'pasta', 'milk', 'tea')\n",
      "This is my shopping set: {'cheese', 'tea', 'coffee', 'pasta', 'eggs', 'rice', 'milk', 'bread'}\n",
      "This is my shopping dictionary: {'milk': '£1.20', 'eggs': '£0.87', 'bread': '£0.64', 'cheese': '£1.75', 'tea': '£1.06', 'coffee': '£2.15', 'rice': '£1.60', 'pasta': '£1.53'}\n"
     ]
    }
   ],
   "source": [
    "shopping_list = [\"milk\", \"eggs\", \"bread\", \"cheese\", \"tea\" ,\"coffee\", \"rice\", \"pasta\", \"milk\", \"tea\"]\n",
    "print(\"This is my shopping list: \" + str(shopping_list))\n",
    "shopping_tuple = (\"milk\", \"eggs\", \"bread\", \"cheese\", \"tea\" ,\"coffee\", \"rice\", \"pasta\", \"milk\", \"tea\")\n",
    "print(\"This is my shopping tuple: \"+ str(shopping_tuple))\n",
    "shopping_set = set(shopping_list)\n",
    "print(\"This is my shopping set: \"+ str(shopping_set))\n",
    "shopping_dict = { \"milk\": \"£1.20\", \"eggs\": \"£0.87\", \"bread\": \"£0.64\", \"cheese\": \"£1.75\", \"tea\": \"£1.06\", \"coffee\": \"£2.15\", \"rice\": \"£1.60\", \"pasta\": \"£1.53\"}\n",
    "print(\"This is my shopping dictionary: \"+ str(shopping_dict))"
   ]
  },
  {
   "cell_type": "markdown",
   "id": "6ff98535",
   "metadata": {},
   "source": [
    "## <font color=\"red\">Logbook Exercise 2</font> ##\n",
    "\n",
    "Create a 'code' cell below. In this do the following:\n",
    "\n",
    "- line 1 - Use a comment to title your exercise - e.g. \"Unit 2 Exercise\" \n",
    "- line 2 - create a list ... li = [\"USA\",\"Mexico\",\"Canada\"]\n",
    "- line 3 - append \"Greenland\" to the list\n",
    "- l4 - print the list to demonstrate that Greenland is attached\n",
    "- l5 - remove \"Greenland\"\n",
    "- l6 - print the list to demonstrate that Greenland is removed\n",
    "- l7 - insert \"Greenland\" at the beginning of the list\n",
    "- l8 - print the resul of l7\n",
    "- l9 - shorthand slice the list to extract the first two items - simultaneausly print the output\n",
    "- l10 - use a negative index to extract the second to last item - simultaneausly print the output\n",
    "- l11 - use a splitting sequence to extract the middle two items - simultaneausly print the output\n",
    "\n",
    "An example of fully described printed output is presented below (some clues here also)\n",
    "Don't worry of your text output is different - it is the contents of the list that matter\n",
    "\n",
    "```\n",
    "li.append('Greenland') gives ...  ['USA', 'Mexico', 'Canada', 'Greenland']\n",
    "li.remove('Greenland') gives ...  ['USA', 'Mexico', 'Canada']\n",
    "li.insert(0,'Greenland') gives ...  ['Greenland', 'USA', 'Mexico', 'Canada']\n",
    "li[:2] gives ...  ['Greenland', 'USA']\n",
    "li[-2] gives ...  Mexico\n",
    "li[1:3] gives ...  ['USA', 'Mexico']\n",
    "```"
   ]
  },
  {
   "cell_type": "code",
   "execution_count": 7,
   "id": "9db0e3d4",
   "metadata": {},
   "outputs": [
    {
     "name": "stdout",
     "output_type": "stream",
     "text": [
      "['USA', 'Mexico', 'Canada', 'Greenland']\n",
      "['USA', 'Mexico', 'Canada']\n",
      "['Greenland', 'USA', 'Mexico', 'Canada']\n",
      "['Greenland', 'USA']\n",
      "Mexico\n",
      "['USA', 'Mexico']\n"
     ]
    }
   ],
   "source": [
    "# Unit 2 Exercise\n",
    "li = [\"USA\",\"Mexico\",\"Canada\"]\n",
    "li.append(\"Greenland\")\n",
    "print(li)\n",
    "li.remove(\"Greenland\")\n",
    "print(li)\n",
    "li.insert(0, \"Greenland\")\n",
    "print(li)\n",
    "print(li[:2])\n",
    "print(li[-2])\n",
    "print(li[1:3])"
   ]
  },
  {
   "cell_type": "markdown",
   "id": "842cd786",
   "metadata": {},
   "source": [
    "## <font color=\"red\">Logbook Exercise 3</font> ##\n",
    "\n",
    "Create a 'code' cell below. In this do the following:\n",
    "- on the first line create the following set ... a=[0,1,2,3,4,5,6,7,8,9,10] \n",
    "- on the second line create the following set ... b=[0,5,10,15,20,25]\n",
    "- on the third line create the following dictionary ... topscores={\"Jo\":999, \"Sue\":987, \"Tara\":960; \"Mike\":870}\n",
    "- use a combination of print() and type() methods to produce the following output\n",
    "\n",
    "```\n",
    "list a is ...  [0, 1, 2, 3, 4, 5, 6, 7, 8, 9, 10]\n",
    "list b is ...  [0, 5, 10, 15, 20, 25]\n",
    "The type of a is now ... <class 'list'>\n",
    "```\n",
    "\n",
    "- on the next 2 lines convert list a and b to sets using set()\n",
    "- on the following lines use a combination of print(), type() and set notaion (e.g. 'a & b', 'a | b', 'b-a') to obtain the following output\n",
    "\n",
    "```\n",
    "set a is ...  {0, 1, 2, 3, 4, 5, 6, 7, 8, 9, 10}\n",
    "set b is ...  {0, 5, 10, 15, 20, 25}\n",
    "The type of a is now ... <class 'set'>\n",
    "Intersect of a and b is [0, 10, 5]\n",
    "Union of a and b is [0, 1, 2, 3, 4, 5, 6, 7, 8, 9, 10, 15, 20, 25]\n",
    "Items unique to set b are {25, 20, 15}\n",
    "```\n",
    "\n",
    "- on the next 2 lines use print(), '.keys()' and '.values()' methods to obtain the following output \n",
    "\n",
    "```\n",
    "topscores dictionary keys are dict_keys(['Jo', 'Sue', 'Tara', 'Mike'])\n",
    "topscores dictionary values are dict_values([999, 987, 960, 870])\n",
    "```"
   ]
  },
  {
   "cell_type": "code",
   "execution_count": 16,
   "id": "0e50ae74",
   "metadata": {},
   "outputs": [
    {
     "name": "stdout",
     "output_type": "stream",
     "text": [
      "list a is [0, 1, 2, 3, 4, 5, 6, 7, 8, 9, 10]\n",
      "list b is [0, 5, 10, 15, 20, 25]\n",
      "The type of a is now <class 'list'>\n",
      "set a is {0, 1, 2, 3, 4, 5, 6, 7, 8, 9, 10}\n",
      "set b is {0, 5, 10, 15, 20, 25}\n",
      "The type of a is now <class 'set'>\n",
      "Intersect of a and b is {0, 10, 5}\n",
      "Union of a and b is {0, 1, 2, 3, 4, 5, 6, 7, 8, 9, 10, 15, 20, 25}\n",
      "Items unique to set b are {25, 20, 15}\n",
      "topscores dictionary keys are dict_keys(['Jo', 'Sue', 'Tara', 'Mike'])\n",
      "topscores dictionary keys are dict_values([999, 987, 960, 870])\n"
     ]
    }
   ],
   "source": [
    "a=[0,1,2,3,4,5,6,7,8,9,10] \n",
    "b=[0,5,10,15,20,25]\n",
    "topscores={\"Jo\":999, \"Sue\":987, \"Tara\":960, \"Mike\":870}\n",
    "print(\"list a is \" + str(a))\n",
    "print(\"list b is \" + str(b))\n",
    "print(\"The type of a is now \" + str(type(a)))\n",
    "a = set(a)\n",
    "b = set(b)\n",
    "print(\"set a is \" + str(a))\n",
    "print(\"set b is \" + str(b))\n",
    "print(\"The type of a is now \" + str(type(a)))\n",
    "print(\"Intersect of a and b is \" + str(a.intersection(b)))\n",
    "print(\"Union of a and b is \" + str(a.union(b)))\n",
    "print(\"Items unique to set b are \" + str(b-a))\n",
    "print(\"topscores dictionary keys are \" + str(topscores.keys()))\n",
    "print(\"topscores dictionary keys are \" + str(topscores.values()))"
   ]
  },
  {
   "cell_type": "markdown",
   "id": "6789fb26",
   "metadata": {},
   "source": [
    "### <font color=\"red\">Logbook Exercise 4</font> ###\n",
    "\n",
    "Create a 'code' cell below. In this do the following:\n",
    "- Given the following 4 lists of names, house number and street addresses, towns and postcodes ...  \n",
    "\n",
    "```\n",
    "[\"T Cruise\",\"D Francis\",\"C White\"]\n",
    "[\"2 West St\",\"65 Deadend Cls\",\"15 Magdalen Rd\"]\n",
    "[\"Canterbury\", \"Reading\", \"Oxford\"]\n",
    "[\"CT8 23RD\", \"RG4 1FG\", \"OX4 3AS\"]\n",
    "```\n",
    "\n",
    "- write a Custom 'address_machine' function that formats 'name', 'hs_number_street', 'town', 'postcode' with commas and spaces between items\n",
    "- create a 'newlist' that repeatedly calls 'address_machine' and 'zips' items from the 4 lists\n",
    "- write a 'for loop' that iterates over 'new list' and prints each name and address on a separate line\n",
    "- the output should appear as follows\n",
    "\n",
    "```\n",
    "T Cruise, 2 West St, Canterbury, CT8 23RD\n",
    "D Francis, 65 Deadend Cls, Reading, RG4 1FG\n",
    "C White, 15 Magdalen Rd, Oxford, OX4 3AS\n",
    "```\n",
    "\n",
    "- <font color=\"red\">HINT:</font> look at \"# CUSTOM FUNCTION WORKED EXAMPLES 3 & 4\" above"
   ]
  },
  {
   "cell_type": "code",
   "execution_count": 3,
   "id": "3e886f41",
   "metadata": {},
   "outputs": [
    {
     "name": "stdout",
     "output_type": "stream",
     "text": [
      "T Cruise, 2 West St, Canterbury, CT8 23RD\n",
      "D Francis, 65 Deadend Cls, Reading, RG4 1FG\n",
      "C White, 15 Magdalen Rd, Oxford, OX4 3AS\n"
     ]
    }
   ],
   "source": [
    "names=[\"T Cruise\",\"D Francis\",\"C White\"]\n",
    "streets=[\"2 West St\",\"65 Deadend Cls\",\"15 Magdalen Rd\"]\n",
    "towns=[\"Canterbury\", \"Reading\", \"Oxford\"]\n",
    "postcodes=[\"CT8 23RD\", \"RG4 1FG\", \"OX4 3AS\"]\n",
    "\n",
    "def address_machine(name, street, town, postcode):\n",
    "    address=\"{0}, {1}, {2}, {3}\".format(name, street, town, postcode)\n",
    "    return address\n",
    "\n",
    "newlist = [address_machine(name,street,town,postcode) for name,street,town,postcode in zip(names,streets,towns,postcodes)]\n",
    "\n",
    "for i in newlist:\n",
    "    print(i)\n"
   ]
  },
  {
   "cell_type": "markdown",
   "id": "200a2e82",
   "metadata": {},
   "source": [
    "## <font color=\"red\">Logbook Exercise 5</font> ##\n",
    "\n",
    "Create a 'code' cell below. In this do the following:\n",
    "- Create a super class \"Person\" that takes three string and one integer parameters for first and second name, UK Postcode and age in years.\n",
    "- Give \"Person\" a method \"greeting\" that prints a statement along the lines \"Hello, my name is Freddy Jones. I am 22 years old and my postcode is HP6 7AJ\"\n",
    "- Create a \"Student\" class that extends/inherits \"Person\" and takes additional parameters for degree_subject and student_ID.\n",
    "- give \"Student\" a \"studentGreeting\" method that prints a statement along the lines \"My student ID is SN123456 and I am reading Computer Science\"\n",
    "- Use either Python {} format or C-type %s/%d notation to format output strings\n",
    "- Create 3 student objects and persist these in a list\n",
    "- Iterate over the three objects and call their \"greeting\" and \"studentGreeting\" methods\n",
    "- Output should be along the lines of the following\n",
    "\n",
    "```\n",
    "Hello, my name is Dick Turpin. I am 32 years old and my postcode is HP11 2JZ\n",
    "My student ID is DT123456 and I am reading Highway Robbery\n",
    " \n",
    "Hello, my name is Dorothy Turpin. I am 32 years old and my postcode is SO14 7AA\n",
    "My student ID is DT123457 and I am reading Law\n",
    " \n",
    "Hello, my name is Oliver Cromwell. I am 32 years old and my postcode is OX35 14RE\n",
    "My student ID is OC123456 and I am reading History\n",
    "```"
   ]
  },
  {
   "cell_type": "code",
   "execution_count": 39,
   "id": "935a6952",
   "metadata": {},
   "outputs": [
    {
     "name": "stdout",
     "output_type": "stream",
     "text": [
      "Hello, my name is Apinayan Kanenthirarasa.\n",
      "I am 20 years old and my postcode id Ub4 Opk.\n",
      "My student ID is 22210324 and I am studying Software Engineering\n"
     ]
    }
   ],
   "source": [
    "class Person:\n",
    "    def __init__(self, firstName:str, secondName:str, postcode:str , age:int):\n",
    "        self.fName = firstName\n",
    "        self.sName = secondName\n",
    "        self.postcode = postcode\n",
    "        self.age = age\n",
    "    def greeting(self):\n",
    "        print(\"Hello, my name is \" + self.fName + \" \" + self.sName + \".\")\n",
    "        print(\"I am \" + str(self.age) + \" years old and my postcode id \" + self.postcode + \".\")\n",
    "class Student(Person):\n",
    "\n",
    "    def __init__(self, firstName:str, secondName:str, postcode:str , age:int, degree_subject:str, student_ID:int):\n",
    "        self.subject=degree_subject\n",
    "        self.Id=student_ID\n",
    "        super().__init__(firstName,secondName,postcode,age)\n",
    "\n",
    "    def studentGreeting(self):\n",
    "        print(\"My student ID is \" + str(self.Id) + \" and I am studying \" + str(self.subject))\n",
    "    \n",
    "\n",
    "student1 = Student(\"Apinayan\", \"Kanenthirarasa\", \"Ub4 Opk\", 20, \"Software Engineering\", 22210324)\n",
    "student1.greeting()\n",
    "student1.studentGreeting()"
   ]
  }
 ],
 "metadata": {
  "kernelspec": {
   "display_name": "Python 3 (ipykernel)",
   "language": "python",
   "name": "python3"
  },
  "language_info": {
   "codemirror_mode": {
    "name": "ipython",
    "version": 3
   },
   "file_extension": ".py",
   "mimetype": "text/x-python",
   "name": "python",
   "nbconvert_exporter": "python",
   "pygments_lexer": "ipython3",
   "version": "3.11.7"
  }
 },
 "nbformat": 4,
 "nbformat_minor": 5
}
